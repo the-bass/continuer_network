{
 "cells": [
  {
   "cell_type": "markdown",
   "metadata": {},
   "source": [
    "# Dataset Inspection"
   ]
  },
  {
   "cell_type": "code",
   "execution_count": 7,
   "metadata": {},
   "outputs": [
    {
     "data": {
      "text/plain": [
       "0    36.09\n",
       "Name: 0, dtype: float64"
      ]
     },
     "execution_count": 7,
     "metadata": {},
     "output_type": "execute_result"
    }
   ],
   "source": [
    "import pandas as pd\n",
    "import matplotlib.pyplot as plt\n",
    "\n",
    "FILE_PATH = './data/numbers.txt'\n",
    "df = pd.read_csv(FILE_PATH, header=None)\n",
    "df.head()"
   ]
  },
  {
   "cell_type": "code",
   "execution_count": 9,
   "metadata": {},
   "outputs": [
    {
     "ename": "TypeError",
     "evalue": "unhashable type: 'slice'",
     "output_type": "error",
     "traceback": [
      "\u001b[0;31m---------------------------------------------------------------------------\u001b[0m",
      "\u001b[0;31mTypeError\u001b[0m                                 Traceback (most recent call last)",
      "\u001b[0;32m<ipython-input-9-c4a594bb2bd7>\u001b[0m in \u001b[0;36m<module>\u001b[0;34m()\u001b[0m\n\u001b[0;32m----> 1\u001b[0;31m \u001b[0mdf\u001b[0m\u001b[0;34m[\u001b[0m\u001b[0;34m:\u001b[0m\u001b[0;34m,\u001b[0m \u001b[0;36m0\u001b[0m\u001b[0;34m]\u001b[0m\u001b[0;34m\u001b[0m\u001b[0m\n\u001b[0m",
      "\u001b[0;32m/opt/conda/lib/python3.6/site-packages/pandas/core/frame.py\u001b[0m in \u001b[0;36m__getitem__\u001b[0;34m(self, key)\u001b[0m\n\u001b[1;32m   2137\u001b[0m             \u001b[0;32mreturn\u001b[0m \u001b[0mself\u001b[0m\u001b[0;34m.\u001b[0m\u001b[0m_getitem_multilevel\u001b[0m\u001b[0;34m(\u001b[0m\u001b[0mkey\u001b[0m\u001b[0;34m)\u001b[0m\u001b[0;34m\u001b[0m\u001b[0m\n\u001b[1;32m   2138\u001b[0m         \u001b[0;32melse\u001b[0m\u001b[0;34m:\u001b[0m\u001b[0;34m\u001b[0m\u001b[0m\n\u001b[0;32m-> 2139\u001b[0;31m             \u001b[0;32mreturn\u001b[0m \u001b[0mself\u001b[0m\u001b[0;34m.\u001b[0m\u001b[0m_getitem_column\u001b[0m\u001b[0;34m(\u001b[0m\u001b[0mkey\u001b[0m\u001b[0;34m)\u001b[0m\u001b[0;34m\u001b[0m\u001b[0m\n\u001b[0m\u001b[1;32m   2140\u001b[0m \u001b[0;34m\u001b[0m\u001b[0m\n\u001b[1;32m   2141\u001b[0m     \u001b[0;32mdef\u001b[0m \u001b[0m_getitem_column\u001b[0m\u001b[0;34m(\u001b[0m\u001b[0mself\u001b[0m\u001b[0;34m,\u001b[0m \u001b[0mkey\u001b[0m\u001b[0;34m)\u001b[0m\u001b[0;34m:\u001b[0m\u001b[0;34m\u001b[0m\u001b[0m\n",
      "\u001b[0;32m/opt/conda/lib/python3.6/site-packages/pandas/core/frame.py\u001b[0m in \u001b[0;36m_getitem_column\u001b[0;34m(self, key)\u001b[0m\n\u001b[1;32m   2144\u001b[0m         \u001b[0;31m# get column\u001b[0m\u001b[0;34m\u001b[0m\u001b[0;34m\u001b[0m\u001b[0m\n\u001b[1;32m   2145\u001b[0m         \u001b[0;32mif\u001b[0m \u001b[0mself\u001b[0m\u001b[0;34m.\u001b[0m\u001b[0mcolumns\u001b[0m\u001b[0;34m.\u001b[0m\u001b[0mis_unique\u001b[0m\u001b[0;34m:\u001b[0m\u001b[0;34m\u001b[0m\u001b[0m\n\u001b[0;32m-> 2146\u001b[0;31m             \u001b[0;32mreturn\u001b[0m \u001b[0mself\u001b[0m\u001b[0;34m.\u001b[0m\u001b[0m_get_item_cache\u001b[0m\u001b[0;34m(\u001b[0m\u001b[0mkey\u001b[0m\u001b[0;34m)\u001b[0m\u001b[0;34m\u001b[0m\u001b[0m\n\u001b[0m\u001b[1;32m   2147\u001b[0m \u001b[0;34m\u001b[0m\u001b[0m\n\u001b[1;32m   2148\u001b[0m         \u001b[0;31m# duplicate columns & possible reduce dimensionality\u001b[0m\u001b[0;34m\u001b[0m\u001b[0;34m\u001b[0m\u001b[0m\n",
      "\u001b[0;32m/opt/conda/lib/python3.6/site-packages/pandas/core/generic.py\u001b[0m in \u001b[0;36m_get_item_cache\u001b[0;34m(self, item)\u001b[0m\n\u001b[1;32m   1838\u001b[0m         \u001b[0;34m\"\"\"Return the cached item, item represents a label indexer.\"\"\"\u001b[0m\u001b[0;34m\u001b[0m\u001b[0m\n\u001b[1;32m   1839\u001b[0m         \u001b[0mcache\u001b[0m \u001b[0;34m=\u001b[0m \u001b[0mself\u001b[0m\u001b[0;34m.\u001b[0m\u001b[0m_item_cache\u001b[0m\u001b[0;34m\u001b[0m\u001b[0m\n\u001b[0;32m-> 1840\u001b[0;31m         \u001b[0mres\u001b[0m \u001b[0;34m=\u001b[0m \u001b[0mcache\u001b[0m\u001b[0;34m.\u001b[0m\u001b[0mget\u001b[0m\u001b[0;34m(\u001b[0m\u001b[0mitem\u001b[0m\u001b[0;34m)\u001b[0m\u001b[0;34m\u001b[0m\u001b[0m\n\u001b[0m\u001b[1;32m   1841\u001b[0m         \u001b[0;32mif\u001b[0m \u001b[0mres\u001b[0m \u001b[0;32mis\u001b[0m \u001b[0;32mNone\u001b[0m\u001b[0;34m:\u001b[0m\u001b[0;34m\u001b[0m\u001b[0m\n\u001b[1;32m   1842\u001b[0m             \u001b[0mvalues\u001b[0m \u001b[0;34m=\u001b[0m \u001b[0mself\u001b[0m\u001b[0;34m.\u001b[0m\u001b[0m_data\u001b[0m\u001b[0;34m.\u001b[0m\u001b[0mget\u001b[0m\u001b[0;34m(\u001b[0m\u001b[0mitem\u001b[0m\u001b[0;34m)\u001b[0m\u001b[0;34m\u001b[0m\u001b[0m\n",
      "\u001b[0;31mTypeError\u001b[0m: unhashable type: 'slice'"
     ]
    }
   ],
   "source": [
    "df[]"
   ]
  },
  {
   "cell_type": "markdown",
   "metadata": {},
   "source": [
    "## A look at the min and max values of each column"
   ]
  },
  {
   "cell_type": "code",
   "execution_count": 5,
   "metadata": {},
   "outputs": [
    {
     "data": {
      "text/plain": [
       "0         36.09\n",
       "1         84.36\n",
       "2         68.58\n",
       "3         88.20\n",
       "4         55.36\n",
       "5         59.03\n",
       "6         27.15\n",
       "7         13.93\n",
       "8         47.21\n",
       "9         37.14\n",
       "10        97.20\n",
       "11        14.36\n",
       "12        44.41\n",
       "13        79.68\n",
       "14         4.68\n",
       "15        90.44\n",
       "16        87.65\n",
       "17        42.74\n",
       "18        54.74\n",
       "19        68.49\n",
       "20        93.81\n",
       "21        22.13\n",
       "22        69.61\n",
       "23        27.12\n",
       "24        67.85\n",
       "25        24.87\n",
       "26        15.65\n",
       "27         1.65\n",
       "28        79.62\n",
       "29        24.53\n",
       "          ...  \n",
       "99971     48.56\n",
       "99972     24.60\n",
       "99973     58.19\n",
       "99974     95.41\n",
       "99975     47.44\n",
       "99976     38.11\n",
       "99977     87.13\n",
       "99978     82.47\n",
       "99979     84.55\n",
       "99980     43.86\n",
       "99981     73.60\n",
       "99982     32.27\n",
       "99983     38.26\n",
       "99984      7.22\n",
       "99985     19.78\n",
       "99986     60.13\n",
       "99987     37.98\n",
       "99988      5.97\n",
       "99989      6.08\n",
       "99990     23.05\n",
       "99991     57.93\n",
       "99992     56.25\n",
       "99993     32.81\n",
       "99994     90.31\n",
       "99995     51.68\n",
       "99996     36.99\n",
       "99997     55.56\n",
       "99998     32.99\n",
       "99999     24.29\n",
       "100000    59.15\n",
       "Length: 100001, dtype: float64"
      ]
     },
     "execution_count": 5,
     "metadata": {},
     "output_type": "execute_result"
    }
   ],
   "source": [
    "df.min()"
   ]
  },
  {
   "cell_type": "code",
   "execution_count": 6,
   "metadata": {},
   "outputs": [
    {
     "data": {
      "text/plain": [
       "0         36.09\n",
       "1         84.36\n",
       "2         68.58\n",
       "3         88.20\n",
       "4         55.36\n",
       "5         59.03\n",
       "6         27.15\n",
       "7         13.93\n",
       "8         47.21\n",
       "9         37.14\n",
       "10        97.20\n",
       "11        14.36\n",
       "12        44.41\n",
       "13        79.68\n",
       "14         4.68\n",
       "15        90.44\n",
       "16        87.65\n",
       "17        42.74\n",
       "18        54.74\n",
       "19        68.49\n",
       "20        93.81\n",
       "21        22.13\n",
       "22        69.61\n",
       "23        27.12\n",
       "24        67.85\n",
       "25        24.87\n",
       "26        15.65\n",
       "27         1.65\n",
       "28        79.62\n",
       "29        24.53\n",
       "          ...  \n",
       "99971     48.56\n",
       "99972     24.60\n",
       "99973     58.19\n",
       "99974     95.41\n",
       "99975     47.44\n",
       "99976     38.11\n",
       "99977     87.13\n",
       "99978     82.47\n",
       "99979     84.55\n",
       "99980     43.86\n",
       "99981     73.60\n",
       "99982     32.27\n",
       "99983     38.26\n",
       "99984      7.22\n",
       "99985     19.78\n",
       "99986     60.13\n",
       "99987     37.98\n",
       "99988      5.97\n",
       "99989      6.08\n",
       "99990     23.05\n",
       "99991     57.93\n",
       "99992     56.25\n",
       "99993     32.81\n",
       "99994     90.31\n",
       "99995     51.68\n",
       "99996     36.99\n",
       "99997     55.56\n",
       "99998     32.99\n",
       "99999     24.29\n",
       "100000    59.15\n",
       "Length: 100001, dtype: float64"
      ]
     },
     "execution_count": 6,
     "metadata": {},
     "output_type": "execute_result"
    }
   ],
   "source": [
    "df.max()"
   ]
  },
  {
   "cell_type": "markdown",
   "metadata": {},
   "source": [
    "The `V` values range from -113.743307 to 120.589494 and I think it makes sense to map them to the interval [-1, 1]. I don't like to use the absolute max value here, because in reality we can't know what values we have to expect in the future. Would be interesting to know whether there are min and max values on them, inducted by the procedure used to produce them, though. But I'm too lazy for that now. As a fan of geometry, I'm gonna use 180 to divide them by.\n",
    "\n",
    "`Amount` and `Time` could also use normalization. I'm gonna use 100,000 as a max value for `Amount` and 172,800 (48 hours in seconds) for `Time`."
   ]
  },
  {
   "cell_type": "markdown",
   "metadata": {},
   "source": [
    "## Classes\n",
    "### A few samples of each class"
   ]
  },
  {
   "cell_type": "code",
   "execution_count": 5,
   "metadata": {},
   "outputs": [
    {
     "data": {
      "text/html": [
       "<div>\n",
       "<style scoped>\n",
       "    .dataframe tbody tr th:only-of-type {\n",
       "        vertical-align: middle;\n",
       "    }\n",
       "\n",
       "    .dataframe tbody tr th {\n",
       "        vertical-align: top;\n",
       "    }\n",
       "\n",
       "    .dataframe thead th {\n",
       "        text-align: right;\n",
       "    }\n",
       "</style>\n",
       "<table border=\"1\" class=\"dataframe\">\n",
       "  <thead>\n",
       "    <tr style=\"text-align: right;\">\n",
       "      <th></th>\n",
       "      <th>Time</th>\n",
       "      <th>V1</th>\n",
       "      <th>V2</th>\n",
       "      <th>V3</th>\n",
       "      <th>V4</th>\n",
       "      <th>V5</th>\n",
       "      <th>V6</th>\n",
       "      <th>V7</th>\n",
       "      <th>V8</th>\n",
       "      <th>V9</th>\n",
       "      <th>...</th>\n",
       "      <th>V21</th>\n",
       "      <th>V22</th>\n",
       "      <th>V23</th>\n",
       "      <th>V24</th>\n",
       "      <th>V25</th>\n",
       "      <th>V26</th>\n",
       "      <th>V27</th>\n",
       "      <th>V28</th>\n",
       "      <th>Amount</th>\n",
       "      <th>Class</th>\n",
       "    </tr>\n",
       "  </thead>\n",
       "  <tbody>\n",
       "    <tr>\n",
       "      <th>0</th>\n",
       "      <td>0.0</td>\n",
       "      <td>-1.359807</td>\n",
       "      <td>-0.072781</td>\n",
       "      <td>2.536347</td>\n",
       "      <td>1.378155</td>\n",
       "      <td>-0.338321</td>\n",
       "      <td>0.462388</td>\n",
       "      <td>0.239599</td>\n",
       "      <td>0.098698</td>\n",
       "      <td>0.363787</td>\n",
       "      <td>...</td>\n",
       "      <td>-0.018307</td>\n",
       "      <td>0.277838</td>\n",
       "      <td>-0.110474</td>\n",
       "      <td>0.066928</td>\n",
       "      <td>0.128539</td>\n",
       "      <td>-0.189115</td>\n",
       "      <td>0.133558</td>\n",
       "      <td>-0.021053</td>\n",
       "      <td>149.62</td>\n",
       "      <td>0</td>\n",
       "    </tr>\n",
       "    <tr>\n",
       "      <th>189814</th>\n",
       "      <td>128571.0</td>\n",
       "      <td>-5.809290</td>\n",
       "      <td>0.180870</td>\n",
       "      <td>-2.698260</td>\n",
       "      <td>4.886691</td>\n",
       "      <td>1.496554</td>\n",
       "      <td>1.833805</td>\n",
       "      <td>-1.417844</td>\n",
       "      <td>-6.071499</td>\n",
       "      <td>-3.150815</td>\n",
       "      <td>...</td>\n",
       "      <td>2.303073</td>\n",
       "      <td>-0.183163</td>\n",
       "      <td>0.049842</td>\n",
       "      <td>-0.220697</td>\n",
       "      <td>1.390550</td>\n",
       "      <td>1.035940</td>\n",
       "      <td>1.110960</td>\n",
       "      <td>-1.758895</td>\n",
       "      <td>0.76</td>\n",
       "      <td>0</td>\n",
       "    </tr>\n",
       "    <tr>\n",
       "      <th>189815</th>\n",
       "      <td>128571.0</td>\n",
       "      <td>2.136948</td>\n",
       "      <td>0.024433</td>\n",
       "      <td>-2.440339</td>\n",
       "      <td>-0.280203</td>\n",
       "      <td>0.951061</td>\n",
       "      <td>-0.799101</td>\n",
       "      <td>0.607870</td>\n",
       "      <td>-0.314005</td>\n",
       "      <td>0.054811</td>\n",
       "      <td>...</td>\n",
       "      <td>0.152297</td>\n",
       "      <td>0.488799</td>\n",
       "      <td>-0.077620</td>\n",
       "      <td>0.236435</td>\n",
       "      <td>0.479284</td>\n",
       "      <td>0.221746</td>\n",
       "      <td>-0.099236</td>\n",
       "      <td>-0.088561</td>\n",
       "      <td>3.70</td>\n",
       "      <td>0</td>\n",
       "    </tr>\n",
       "    <tr>\n",
       "      <th>189816</th>\n",
       "      <td>128571.0</td>\n",
       "      <td>-1.156768</td>\n",
       "      <td>0.135422</td>\n",
       "      <td>3.113868</td>\n",
       "      <td>4.420894</td>\n",
       "      <td>0.757698</td>\n",
       "      <td>1.234795</td>\n",
       "      <td>-1.234156</td>\n",
       "      <td>0.721934</td>\n",
       "      <td>-1.676275</td>\n",
       "      <td>...</td>\n",
       "      <td>0.390024</td>\n",
       "      <td>0.767668</td>\n",
       "      <td>-0.064709</td>\n",
       "      <td>0.746197</td>\n",
       "      <td>-0.080808</td>\n",
       "      <td>0.475584</td>\n",
       "      <td>0.105618</td>\n",
       "      <td>0.128784</td>\n",
       "      <td>9.81</td>\n",
       "      <td>0</td>\n",
       "    </tr>\n",
       "    <tr>\n",
       "      <th>189817</th>\n",
       "      <td>128571.0</td>\n",
       "      <td>1.767787</td>\n",
       "      <td>-0.301029</td>\n",
       "      <td>-2.215079</td>\n",
       "      <td>0.511939</td>\n",
       "      <td>0.423751</td>\n",
       "      <td>-0.984541</td>\n",
       "      <td>0.509947</td>\n",
       "      <td>-0.398095</td>\n",
       "      <td>0.540116</td>\n",
       "      <td>...</td>\n",
       "      <td>0.258679</td>\n",
       "      <td>0.570469</td>\n",
       "      <td>-0.257998</td>\n",
       "      <td>-0.764858</td>\n",
       "      <td>0.285443</td>\n",
       "      <td>-0.074687</td>\n",
       "      <td>-0.027915</td>\n",
       "      <td>-0.005763</td>\n",
       "      <td>174.00</td>\n",
       "      <td>0</td>\n",
       "    </tr>\n",
       "  </tbody>\n",
       "</table>\n",
       "<p>5 rows × 31 columns</p>\n",
       "</div>"
      ],
      "text/plain": [
       "            Time        V1        V2        V3        V4        V5        V6  \\\n",
       "0            0.0 -1.359807 -0.072781  2.536347  1.378155 -0.338321  0.462388   \n",
       "189814  128571.0 -5.809290  0.180870 -2.698260  4.886691  1.496554  1.833805   \n",
       "189815  128571.0  2.136948  0.024433 -2.440339 -0.280203  0.951061 -0.799101   \n",
       "189816  128571.0 -1.156768  0.135422  3.113868  4.420894  0.757698  1.234795   \n",
       "189817  128571.0  1.767787 -0.301029 -2.215079  0.511939  0.423751 -0.984541   \n",
       "\n",
       "              V7        V8        V9  ...         V21       V22       V23  \\\n",
       "0       0.239599  0.098698  0.363787  ...   -0.018307  0.277838 -0.110474   \n",
       "189814 -1.417844 -6.071499 -3.150815  ...    2.303073 -0.183163  0.049842   \n",
       "189815  0.607870 -0.314005  0.054811  ...    0.152297  0.488799 -0.077620   \n",
       "189816 -1.234156  0.721934 -1.676275  ...    0.390024  0.767668 -0.064709   \n",
       "189817  0.509947 -0.398095  0.540116  ...    0.258679  0.570469 -0.257998   \n",
       "\n",
       "             V24       V25       V26       V27       V28  Amount  Class  \n",
       "0       0.066928  0.128539 -0.189115  0.133558 -0.021053  149.62      0  \n",
       "189814 -0.220697  1.390550  1.035940  1.110960 -1.758895    0.76      0  \n",
       "189815  0.236435  0.479284  0.221746 -0.099236 -0.088561    3.70      0  \n",
       "189816  0.746197 -0.080808  0.475584  0.105618  0.128784    9.81      0  \n",
       "189817 -0.764858  0.285443 -0.074687 -0.027915 -0.005763  174.00      0  \n",
       "\n",
       "[5 rows x 31 columns]"
      ]
     },
     "execution_count": 5,
     "metadata": {},
     "output_type": "execute_result"
    }
   ],
   "source": [
    "df = df.sort_values('Class')\n",
    "df.head()"
   ]
  },
  {
   "cell_type": "code",
   "execution_count": 6,
   "metadata": {},
   "outputs": [
    {
     "data": {
      "text/html": [
       "<div>\n",
       "<style scoped>\n",
       "    .dataframe tbody tr th:only-of-type {\n",
       "        vertical-align: middle;\n",
       "    }\n",
       "\n",
       "    .dataframe tbody tr th {\n",
       "        vertical-align: top;\n",
       "    }\n",
       "\n",
       "    .dataframe thead th {\n",
       "        text-align: right;\n",
       "    }\n",
       "</style>\n",
       "<table border=\"1\" class=\"dataframe\">\n",
       "  <thead>\n",
       "    <tr style=\"text-align: right;\">\n",
       "      <th></th>\n",
       "      <th>Time</th>\n",
       "      <th>V1</th>\n",
       "      <th>V2</th>\n",
       "      <th>V3</th>\n",
       "      <th>V4</th>\n",
       "      <th>V5</th>\n",
       "      <th>V6</th>\n",
       "      <th>V7</th>\n",
       "      <th>V8</th>\n",
       "      <th>V9</th>\n",
       "      <th>...</th>\n",
       "      <th>V21</th>\n",
       "      <th>V22</th>\n",
       "      <th>V23</th>\n",
       "      <th>V24</th>\n",
       "      <th>V25</th>\n",
       "      <th>V26</th>\n",
       "      <th>V27</th>\n",
       "      <th>V28</th>\n",
       "      <th>Amount</th>\n",
       "      <th>Class</th>\n",
       "    </tr>\n",
       "  </thead>\n",
       "  <tbody>\n",
       "    <tr>\n",
       "      <th>42741</th>\n",
       "      <td>41227.0</td>\n",
       "      <td>-9.001351</td>\n",
       "      <td>6.613284</td>\n",
       "      <td>-12.423635</td>\n",
       "      <td>7.519929</td>\n",
       "      <td>-10.266255</td>\n",
       "      <td>-2.113208</td>\n",
       "      <td>-9.984287</td>\n",
       "      <td>5.541941</td>\n",
       "      <td>-7.383705</td>\n",
       "      <td>...</td>\n",
       "      <td>1.775891</td>\n",
       "      <td>-1.224758</td>\n",
       "      <td>0.082594</td>\n",
       "      <td>0.452089</td>\n",
       "      <td>0.463827</td>\n",
       "      <td>-0.296928</td>\n",
       "      <td>0.526506</td>\n",
       "      <td>-0.450890</td>\n",
       "      <td>459.07</td>\n",
       "      <td>1</td>\n",
       "    </tr>\n",
       "    <tr>\n",
       "      <th>107067</th>\n",
       "      <td>70270.0</td>\n",
       "      <td>-1.512516</td>\n",
       "      <td>1.133139</td>\n",
       "      <td>-1.601052</td>\n",
       "      <td>2.813401</td>\n",
       "      <td>-2.664503</td>\n",
       "      <td>-0.310371</td>\n",
       "      <td>-1.520895</td>\n",
       "      <td>0.852996</td>\n",
       "      <td>-1.496495</td>\n",
       "      <td>...</td>\n",
       "      <td>0.729828</td>\n",
       "      <td>0.485286</td>\n",
       "      <td>0.567005</td>\n",
       "      <td>0.323586</td>\n",
       "      <td>0.040871</td>\n",
       "      <td>0.825814</td>\n",
       "      <td>0.414482</td>\n",
       "      <td>0.267265</td>\n",
       "      <td>318.11</td>\n",
       "      <td>1</td>\n",
       "    </tr>\n",
       "    <tr>\n",
       "      <th>10897</th>\n",
       "      <td>18690.0</td>\n",
       "      <td>-15.398845</td>\n",
       "      <td>7.472324</td>\n",
       "      <td>-19.026912</td>\n",
       "      <td>11.165526</td>\n",
       "      <td>-6.893856</td>\n",
       "      <td>-2.120937</td>\n",
       "      <td>-14.913330</td>\n",
       "      <td>-0.721214</td>\n",
       "      <td>-7.175097</td>\n",
       "      <td>...</td>\n",
       "      <td>-2.444884</td>\n",
       "      <td>0.727495</td>\n",
       "      <td>-0.345078</td>\n",
       "      <td>-0.981749</td>\n",
       "      <td>0.995271</td>\n",
       "      <td>0.816762</td>\n",
       "      <td>2.262942</td>\n",
       "      <td>-1.178063</td>\n",
       "      <td>1.00</td>\n",
       "      <td>1</td>\n",
       "    </tr>\n",
       "    <tr>\n",
       "      <th>191690</th>\n",
       "      <td>129371.0</td>\n",
       "      <td>1.183931</td>\n",
       "      <td>3.057250</td>\n",
       "      <td>-6.161997</td>\n",
       "      <td>5.543972</td>\n",
       "      <td>1.617041</td>\n",
       "      <td>-1.848006</td>\n",
       "      <td>-1.005508</td>\n",
       "      <td>0.339937</td>\n",
       "      <td>-2.959806</td>\n",
       "      <td>...</td>\n",
       "      <td>0.109185</td>\n",
       "      <td>-0.931072</td>\n",
       "      <td>-0.064175</td>\n",
       "      <td>-0.007013</td>\n",
       "      <td>0.345419</td>\n",
       "      <td>0.064558</td>\n",
       "      <td>0.476629</td>\n",
       "      <td>0.323740</td>\n",
       "      <td>0.00</td>\n",
       "      <td>1</td>\n",
       "    </tr>\n",
       "    <tr>\n",
       "      <th>231978</th>\n",
       "      <td>146998.0</td>\n",
       "      <td>-2.064240</td>\n",
       "      <td>2.629739</td>\n",
       "      <td>-0.748406</td>\n",
       "      <td>0.694992</td>\n",
       "      <td>0.418178</td>\n",
       "      <td>1.392520</td>\n",
       "      <td>-1.697801</td>\n",
       "      <td>-6.333065</td>\n",
       "      <td>1.724184</td>\n",
       "      <td>...</td>\n",
       "      <td>6.215514</td>\n",
       "      <td>-1.276909</td>\n",
       "      <td>0.459861</td>\n",
       "      <td>-1.051685</td>\n",
       "      <td>0.209178</td>\n",
       "      <td>-0.319859</td>\n",
       "      <td>0.015434</td>\n",
       "      <td>-0.050117</td>\n",
       "      <td>8.00</td>\n",
       "      <td>1</td>\n",
       "    </tr>\n",
       "  </tbody>\n",
       "</table>\n",
       "<p>5 rows × 31 columns</p>\n",
       "</div>"
      ],
      "text/plain": [
       "            Time         V1        V2         V3         V4         V5  \\\n",
       "42741    41227.0  -9.001351  6.613284 -12.423635   7.519929 -10.266255   \n",
       "107067   70270.0  -1.512516  1.133139  -1.601052   2.813401  -2.664503   \n",
       "10897    18690.0 -15.398845  7.472324 -19.026912  11.165526  -6.893856   \n",
       "191690  129371.0   1.183931  3.057250  -6.161997   5.543972   1.617041   \n",
       "231978  146998.0  -2.064240  2.629739  -0.748406   0.694992   0.418178   \n",
       "\n",
       "              V6         V7        V8        V9  ...         V21       V22  \\\n",
       "42741  -2.113208  -9.984287  5.541941 -7.383705  ...    1.775891 -1.224758   \n",
       "107067 -0.310371  -1.520895  0.852996 -1.496495  ...    0.729828  0.485286   \n",
       "10897  -2.120937 -14.913330 -0.721214 -7.175097  ...   -2.444884  0.727495   \n",
       "191690 -1.848006  -1.005508  0.339937 -2.959806  ...    0.109185 -0.931072   \n",
       "231978  1.392520  -1.697801 -6.333065  1.724184  ...    6.215514 -1.276909   \n",
       "\n",
       "             V23       V24       V25       V26       V27       V28  Amount  \\\n",
       "42741   0.082594  0.452089  0.463827 -0.296928  0.526506 -0.450890  459.07   \n",
       "107067  0.567005  0.323586  0.040871  0.825814  0.414482  0.267265  318.11   \n",
       "10897  -0.345078 -0.981749  0.995271  0.816762  2.262942 -1.178063    1.00   \n",
       "191690 -0.064175 -0.007013  0.345419  0.064558  0.476629  0.323740    0.00   \n",
       "231978  0.459861 -1.051685  0.209178 -0.319859  0.015434 -0.050117    8.00   \n",
       "\n",
       "        Class  \n",
       "42741       1  \n",
       "107067      1  \n",
       "10897       1  \n",
       "191690      1  \n",
       "231978      1  \n",
       "\n",
       "[5 rows x 31 columns]"
      ]
     },
     "execution_count": 6,
     "metadata": {},
     "output_type": "execute_result"
    }
   ],
   "source": [
    "df.tail()"
   ]
  },
  {
   "cell_type": "markdown",
   "metadata": {},
   "source": [
    "### Amount of samples in each class"
   ]
  },
  {
   "cell_type": "code",
   "execution_count": 7,
   "metadata": {},
   "outputs": [
    {
     "data": {
      "text/plain": [
       "0    284315\n",
       "1       492\n",
       "Name: Class, dtype: int64"
      ]
     },
     "execution_count": 7,
     "metadata": {},
     "output_type": "execute_result"
    }
   ],
   "source": [
    "df['Class'].value_counts()"
   ]
  },
  {
   "cell_type": "code",
   "execution_count": 8,
   "metadata": {},
   "outputs": [
    {
     "data": {
      "text/plain": [
       "[284315, 492]"
      ]
     },
     "execution_count": 8,
     "metadata": {},
     "output_type": "execute_result"
    }
   ],
   "source": [
    "amount_of_1s_and_0s = list(df['Class'].value_counts())\n",
    "amount_of_1s_and_0s"
   ]
  },
  {
   "cell_type": "code",
   "execution_count": 15,
   "metadata": {},
   "outputs": [
    {
     "data": {
      "image/png": "[encoded data removed]",
      "text/plain": [
       "<matplotlib.figure.Figure at 0x7fd23e791dd8>"
      ]
     },
     "metadata": {},
     "output_type": "display_data"
    }
   ],
   "source": [
    "plt.pie(\n",
    "    amount_of_1s_and_0s,\n",
    "    explode=(0, 0.1),\n",
    "    labels=('Non-Fraudulent', 'Fraudulent'),\n",
    "    colors=['green', 'red'],\n",
    "    autopct='%1.1f%%',\n",
    "    shadow=True,\n",
    "    startangle=140\n",
    ")\n",
    "\n",
    "plt.axis('equal')\n",
    "plt.show()"
   ]
  },
  {
   "cell_type": "markdown",
   "metadata": {},
   "source": [
    "It is pretty clear, that there are far more non-fraudulent examples than fraudulent, a condition that is known as the Class Imbalance Problem. I will try the recommended approach of oversampling , which means, adding duplicates of the minority class so, that the 2 classes are balanced."
   ]
  },
  {
   "cell_type": "markdown",
   "metadata": {},
   "source": [
    "## Other saliences"
   ]
  },
  {
   "cell_type": "markdown",
   "metadata": {},
   "source": [
    "There are a couple of duplicate rows."
   ]
  },
  {
   "cell_type": "code",
   "execution_count": 10,
   "metadata": {},
   "outputs": [
    {
     "data": {
      "text/plain": [
       "1081"
      ]
     },
     "execution_count": 10,
     "metadata": {},
     "output_type": "execute_result"
    }
   ],
   "source": [
    "df['Time'].count() - df.drop_duplicates()['Time'].count()"
   ]
  },
  {
   "cell_type": "markdown",
   "metadata": {},
   "source": [
    "## Conclusion"
   ]
  },
  {
   "cell_type": "markdown",
   "metadata": {},
   "source": [
    "At first it might make sense to try a simple, fully-connected model. But I think the `Time` column might not really be leveraged here. After all, what difference does it make how many seconds from a random point in time has passed when a transaction takes place? Thus, a better model might take the transactions into account, that have taken place _before_ the current transaction."
   ]
  }
 ],
 "metadata": {
  "kernelspec": {
   "display_name": "Python 3",
   "language": "python",
   "name": "python3"
  },
  "language_info": {
   "codemirror_mode": {
    "name": "ipython",
    "version": 3
   },
   "file_extension": ".py",
   "mimetype": "text/x-python",
   "name": "python",
   "nbconvert_exporter": "python",
   "pygments_lexer": "ipython3",
   "version": "3.6.4"
  }
 },
 "nbformat": 4,
 "nbformat_minor": 2
}
