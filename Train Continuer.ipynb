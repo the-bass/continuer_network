{
 "cells": [
  {
   "cell_type": "code",
   "execution_count": 17,
   "metadata": {},
   "outputs": [
    {
     "name": "stdout",
     "output_type": "stream",
     "text": [
      "CHECKPOINT RESTORED | Checkpoint ID: 58, Success on TRAIN set: 0.03661535307765007, Success on DEV set: 0.036112211644649506 | 05:42:06, 04.06.2018\n",
      "Epoch    6 | Loss: 0.035611268132925 | Time elapsed:  5.4 minutes                                                    \n",
      "CHECKPOINT | Success on TRAIN set: 0.03552447631955147, Success on DEV set: 0.0352124348282814 | 05:51:55, 04.06.2018\n",
      "Epoch   12 | Loss: 0.035191431641579 | Time elapsed: 11.8 minutes                                                    \n",
      "CHECKPOINT | Success on TRAIN set: 0.035024311393499374, Success on DEV set: 0.03473086282610893 | 05:58:20, 04.06.2018\n",
      "Epoch   14 | Loss: 0.0349991620, Duration: 52.79 s\r"
     ]
    },
    {
     "ename": "KeyboardInterrupt",
     "evalue": "",
     "output_type": "error",
     "traceback": [
      "\u001b[0;31m---------------------------------------------------------------------------\u001b[0m",
      "\u001b[0;31mKeyboardInterrupt\u001b[0m                         Traceback (most recent call last)",
      "\u001b[0;32m<ipython-input-17-813c57bc01bb>\u001b[0m in \u001b[0;36m<module>\u001b[0;34m()\u001b[0m\n\u001b[1;32m     43\u001b[0m     \u001b[0mcheckpoint_frequency\u001b[0m\u001b[0;34m=\u001b[0m\u001b[0;36m5\u001b[0m\u001b[0;34m,\u001b[0m\u001b[0;34m\u001b[0m\u001b[0m\n\u001b[1;32m     44\u001b[0m     \u001b[0mcheckpoint\u001b[0m\u001b[0;34m=\u001b[0m\u001b[0;34m-\u001b[0m\u001b[0;36m1\u001b[0m\u001b[0;34m,\u001b[0m\u001b[0;34m\u001b[0m\u001b[0m\n\u001b[0;32m---> 45\u001b[0;31m     \u001b[0mnotes\u001b[0m\u001b[0;34m=\u001b[0m\u001b[0;34mf\"Adam learning_rate={learning_rate} weight_decay={weight_decay}\"\u001b[0m\u001b[0;34m,\u001b[0m\u001b[0;34m\u001b[0m\u001b[0m\n\u001b[0m\u001b[1;32m     46\u001b[0m     \u001b[0;31m# record=False\u001b[0m\u001b[0;34m\u001b[0m\u001b[0;34m\u001b[0m\u001b[0m\n\u001b[1;32m     47\u001b[0m )\n",
      "\u001b[0;32m/app/coach_dev/coach/coach.py\u001b[0m in \u001b[0;36mtrain\u001b[0;34m(self, target, train_one_epoch, measure_performance, checkpoint_frequency, checkpoint, notes, record)\u001b[0m\n\u001b[1;32m     91\u001b[0m             \u001b[0mself\u001b[0m\u001b[0;34m.\u001b[0m\u001b[0m__log__\u001b[0m\u001b[0;34m(\u001b[0m\u001b[0;34mf\"Epoch {epoch:4d} | \"\u001b[0m\u001b[0;34m,\u001b[0m \u001b[0mend\u001b[0m\u001b[0;34m=\u001b[0m\u001b[0;34m\"\\r\"\u001b[0m\u001b[0;34m)\u001b[0m\u001b[0;34m\u001b[0m\u001b[0m\n\u001b[1;32m     92\u001b[0m \u001b[0;34m\u001b[0m\u001b[0m\n\u001b[0;32m---> 93\u001b[0;31m             \u001b[0mloss\u001b[0m \u001b[0;34m=\u001b[0m \u001b[0mtrain_one_epoch\u001b[0m\u001b[0;34m(\u001b[0m\u001b[0;34m)\u001b[0m\u001b[0;34m\u001b[0m\u001b[0m\n\u001b[0m\u001b[1;32m     94\u001b[0m             \u001b[0mepochs_since_last_checkpoint\u001b[0m \u001b[0;34m+=\u001b[0m \u001b[0;36m1\u001b[0m\u001b[0;34m\u001b[0m\u001b[0m\n\u001b[1;32m     95\u001b[0m \u001b[0;34m\u001b[0m\u001b[0m\n",
      "\u001b[0;32m<ipython-input-17-813c57bc01bb>\u001b[0m in \u001b[0;36mtrain_one_epoch\u001b[0;34m()\u001b[0m\n\u001b[1;32m     24\u001b[0m         \u001b[0mshuffle\u001b[0m\u001b[0;34m=\u001b[0m\u001b[0mshuffle\u001b[0m\u001b[0;34m,\u001b[0m\u001b[0;34m\u001b[0m\u001b[0m\n\u001b[1;32m     25\u001b[0m         \u001b[0mlearning_rate\u001b[0m\u001b[0;34m=\u001b[0m\u001b[0mlearning_rate\u001b[0m\u001b[0;34m,\u001b[0m\u001b[0;34m\u001b[0m\u001b[0m\n\u001b[0;32m---> 26\u001b[0;31m         \u001b[0mweight_decay\u001b[0m\u001b[0;34m=\u001b[0m\u001b[0mweight_decay\u001b[0m\u001b[0;34m\u001b[0m\u001b[0m\n\u001b[0m\u001b[1;32m     27\u001b[0m     )\n\u001b[1;32m     28\u001b[0m \u001b[0;34m\u001b[0m\u001b[0m\n",
      "\u001b[0;32m/app/network_interface.py\u001b[0m in \u001b[0;36mtrain_one_epoch\u001b[0;34m(self, dataset, learning_rate, weight_decay, shuffle)\u001b[0m\n\u001b[1;32m    178\u001b[0m                 \u001b[0mend\u001b[0m \u001b[0;34m=\u001b[0m \u001b[0mtime\u001b[0m\u001b[0;34m.\u001b[0m\u001b[0mtime\u001b[0m\u001b[0;34m(\u001b[0m\u001b[0;34m)\u001b[0m\u001b[0;34m\u001b[0m\u001b[0m\n\u001b[1;32m    179\u001b[0m                 \u001b[0mprint\u001b[0m\u001b[0;34m(\u001b[0m\u001b[0;34m\"Forward:\"\u001b[0m\u001b[0;34m,\u001b[0m \u001b[0mend\u001b[0m \u001b[0;34m-\u001b[0m \u001b[0mstart\u001b[0m\u001b[0;34m)\u001b[0m\u001b[0;34m\u001b[0m\u001b[0m\n\u001b[0;32m--> 180\u001b[0;31m                 \u001b[0mstart\u001b[0m \u001b[0;34m=\u001b[0m \u001b[0mtime\u001b[0m\u001b[0;34m.\u001b[0m\u001b[0mtime\u001b[0m\u001b[0;34m(\u001b[0m\u001b[0;34m)\u001b[0m\u001b[0;34m\u001b[0m\u001b[0m\n\u001b[0m\u001b[1;32m    181\u001b[0m \u001b[0;34m\u001b[0m\u001b[0m\n\u001b[1;32m    182\u001b[0m             \u001b[0mloss\u001b[0m \u001b[0;34m=\u001b[0m \u001b[0mloss_function\u001b[0m\u001b[0;34m(\u001b[0m\u001b[0mpredicted_y\u001b[0m\u001b[0;34m,\u001b[0m \u001b[0my\u001b[0m\u001b[0;34m)\u001b[0m\u001b[0;34m\u001b[0m\u001b[0m\n",
      "\u001b[0;31mKeyboardInterrupt\u001b[0m: "
     ]
    }
   ],
   "source": [
    "import torch\n",
    "import coach\n",
    "import coach.targets\n",
    "from dataset_partitions import train_set, dev_set, test_set\n",
    "from network_interface import NetworkInterface\n",
    "from networks.continuer import Continuer\n",
    "\n",
    "\n",
    "network = Continuer()\n",
    "shuffle = True\n",
    "batch_size = 1024#8192\n",
    "learning_rate = 0.001\n",
    "weight_decay = 0.0001\n",
    "cch = coach.Coach(network=network)\n",
    "\n",
    "network_interface = NetworkInterface(\n",
    "    network=network,\n",
    "    batch_size=batch_size\n",
    ")\n",
    "\n",
    "def train_one_epoch():\n",
    "    epoch_loss = network_interface.train_one_epoch(\n",
    "        train_set,\n",
    "        shuffle=shuffle,\n",
    "        learning_rate=learning_rate,\n",
    "        weight_decay=weight_decay\n",
    "    )\n",
    "\n",
    "    return epoch_loss\n",
    "\n",
    "def measure_performance():\n",
    "    train_set_performance = network_interface.performance_on_set(train_set)\n",
    "    dev_set_performance = network_interface.performance_on_set(dev_set)\n",
    "\n",
    "    return train_set_performance, dev_set_performance\n",
    "\n",
    "cch.train(\n",
    "    target=coach.targets.infinity_reached(),\n",
    "    # target=coach.targets.time_elapsed(30),\n",
    "    # target=coach.targets.epoch_reached(2),\n",
    "    train_one_epoch=train_one_epoch,\n",
    "    measure_performance=measure_performance,\n",
    "    checkpoint_frequency=5,\n",
    "    checkpoint=-1,\n",
    "    notes=f\"Adam learning_rate={learning_rate} weight_decay={weight_decay}\",\n",
    "    # record=False\n",
    ")"
   ]
  },
  {
   "cell_type": "code",
   "execution_count": null,
   "metadata": {},
   "outputs": [],
   "source": []
  }
 ],
 "metadata": {
  "kernelspec": {
   "display_name": "Python 3",
   "language": "python",
   "name": "python3"
  },
  "language_info": {
   "codemirror_mode": {
    "name": "ipython",
    "version": 3
   },
   "file_extension": ".py",
   "mimetype": "text/x-python",
   "name": "python",
   "nbconvert_exporter": "python",
   "pygments_lexer": "ipython3",
   "version": "3.6.4"
  }
 },
 "nbformat": 4,
 "nbformat_minor": 2
}
